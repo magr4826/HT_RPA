{
 "cells": [
  {
   "cell_type": "code",
   "execution_count": 1,
   "metadata": {},
   "outputs": [
    {
     "data": {
      "text/plain": [
       "'/scratch/magr4826/Promotion/RPA_calc'"
      ]
     },
     "execution_count": 1,
     "metadata": {},
     "output_type": "execute_result"
    }
   ],
   "source": [
    "import os\n",
    "import re\n",
    "import matplotlib.pyplot as plt\n",
    "import numpy as np\n",
    "import pandas as pd\n",
    "\n",
    "os.getcwd()"
   ]
  },
  {
   "cell_type": "code",
   "execution_count": 2,
   "metadata": {},
   "outputs": [],
   "source": [
    "os.chdir(\"calc\")"
   ]
  },
  {
   "cell_type": "code",
   "execution_count": 3,
   "metadata": {},
   "outputs": [],
   "source": [
    "def get_cputime(logdir):\n",
    "    # Parse the cpu time from the .lsf log-files\n",
    "    with open(logdir, \"r\") as f:\n",
    "        log = f.read()\n",
    "\n",
    "    # Extract number of cores\n",
    "    cores_match = re.search(r\"#BSUB -n (\\d+)\", log)\n",
    "    num_cores = int(cores_match.group(1)) if cores_match else None\n",
    "\n",
    "    # Extract run time\n",
    "    runtime_match = re.search(r\"Run time\\s*:\\s*(\\d+)\\s*sec\", log)\n",
    "    run_time_sec = int(runtime_match.group(1)) if runtime_match else None\n",
    "\n",
    "    if run_time_sec == None or num_cores == None:\n",
    "        raise (Exception, \"Logfile unfinished\")\n",
    "\n",
    "    return num_cores, run_time_sec"
   ]
  },
  {
   "attachments": {},
   "cell_type": "markdown",
   "metadata": {},
   "source": [
    "## Full cpu time"
   ]
  },
  {
   "cell_type": "code",
   "execution_count": 4,
   "metadata": {},
   "outputs": [
    {
     "name": "stdout",
     "output_type": "stream",
     "text": [
      "3\n"
     ]
    }
   ],
   "source": [
    "unfinished = 0\n",
    "cores = []\n",
    "runtimes = []\n",
    "for folder in os.listdir():\n",
    "    if \"agm\" in folder:\n",
    "        os.chdir(folder)\n",
    "        for file in os.listdir():\n",
    "            if \"log\" in file:\n",
    "                try:\n",
    "                    cpu, time = get_cputime(file)\n",
    "                    # print(file)\n",
    "                    cores.append(cpu)\n",
    "                    runtimes.append(time)\n",
    "                except:\n",
    "                    unfinished += 1\n",
    "\n",
    "        os.chdir(os.pardir)\n",
    "cores = np.array(cores)\n",
    "runtimes = np.array(runtimes)\n",
    "print(unfinished)"
   ]
  },
  {
   "cell_type": "code",
   "execution_count": 8,
   "metadata": {},
   "outputs": [
    {
     "name": "stdout",
     "output_type": "stream",
     "text": [
      "Median CPU time per material: 9.568888888888889 h\n",
      "Mean CPU time per material: 36.28021216652009 h\n"
     ]
    },
    {
     "data": {
      "image/png": "[encoded data removed]",
      "text/plain": [
       "<Figure size 640x480 with 1 Axes>"
      ]
     },
     "metadata": {},
     "output_type": "display_data"
    }
   ],
   "source": [
    "plt.hist(cores * runtimes / 60 / 60, bins=20)\n",
    "plt.xlabel(\"CPU time [h]\")\n",
    "plt.ylabel(\"Number of materials\")\n",
    "print(\n",
    "    \"Median CPU time per material: \" + str(np.median(runtimes * cores / 60 / 60)) + \" h\"\n",
    ")\n",
    "print(\"Mean CPU time per material: \" + str(np.mean(runtimes * cores / 60 / 60)) + \" h\")"
   ]
  },
  {
   "attachments": {},
   "cell_type": "markdown",
   "metadata": {},
   "source": [
    "## CPU time per RPA step"
   ]
  },
  {
   "cell_type": "code",
   "execution_count": 9,
   "metadata": {},
   "outputs": [],
   "source": [
    "import re\n",
    "\n",
    "\n",
    "def parse_yambo_time(timestr):\n",
    "    \"\"\"Parse Yambo timing strings like '01d-12h-47m', '01h-29m', '06m-24s', '47s' into seconds.\"\"\"\n",
    "    if timestr is None:\n",
    "        return 0\n",
    "\n",
    "    # Check for unknown units (anything not d, h, m, s, digits, or dash)\n",
    "    if re.search(r\"[^0-9dhms\\-]\", timestr):\n",
    "        raise ValueError(f\"Unknown time unit in timing string: {timestr}\")\n",
    "\n",
    "    d = h = m = s = 0\n",
    "    d_match = re.search(r\"(\\d+)d\", timestr)\n",
    "    h_match = re.search(r\"(\\d+)h\", timestr)\n",
    "    m_match = re.search(r\"(\\d+)m\", timestr)\n",
    "    s_match = re.search(r\"(\\d+)[-]?s\", timestr)\n",
    "\n",
    "    if d_match:\n",
    "        d = int(d_match.group(1))\n",
    "    if h_match:\n",
    "        h = int(h_match.group(1))\n",
    "    if m_match:\n",
    "        m = int(m_match.group(1))\n",
    "    if s_match:\n",
    "        s = int(s_match.group(1))\n",
    "\n",
    "    return d * 86400 + h * 3600 + m * 60 + s\n",
    "\n",
    "\n",
    "def parse_yambo_log(log_text):\n",
    "    # Extract number of cores from X_CPU\n",
    "    xcpu_match = re.search(r'X_CPU=\\s*\"([\\d.]+)\"', log_text)\n",
    "    num_cores = (\n",
    "        np.prod([int(x) for x in xcpu_match.group(1).split(\".\")])\n",
    "        if xcpu_match\n",
    "        else None\n",
    "    )\n",
    "\n",
    "    # Extract average timing string\n",
    "    timing_match = re.search(\n",
    "        r\"Timing\\s+\\[Min/Max/Average\\]:\\s+[^\\n/]+/[^\\n/]+/([^\\s]+)\", log_text\n",
    "    )\n",
    "    avg_time_str = timing_match.group(1) if timing_match else None\n",
    "    avg_wall_time = parse_yambo_time(avg_time_str)\n",
    "\n",
    "    # Compute total CPU time\n",
    "    total_cpu_time = num_cores * avg_wall_time if num_cores is not None else None\n",
    "\n",
    "    return {\n",
    "        \"cores\": num_cores,\n",
    "        \"avg_wall_time_s\": avg_wall_time,\n",
    "        \"cpu_time_s\": total_cpu_time,\n",
    "    }"
   ]
  },
  {
   "cell_type": "code",
   "execution_count": 31,
   "metadata": {},
   "outputs": [],
   "source": [
    "G_0 = []\n",
    "for material in os.listdir():\n",
    "    os.chdir(material + \"/yambo_RPA_convergence\")\n",
    "    files = [f for f in os.listdir() if f.startswith(\"epsilon\")]\n",
    "    G_vals = []\n",
    "    for file in files:\n",
    "        epsI_0 = None\n",
    "        epsI_1 = None\n",
    "        epsI_2 = None\n",
    "        if file.startswith(\"epsilon_0_1500_\"):\n",
    "            with open(file) as f:\n",
    "                log_text = f.read()\n",
    "            eps_df = pd.read_csv(\n",
    "                file,\n",
    "                comment=\"#\",\n",
    "                names=[\"E\", \"epsi\", \"epsr\", \"epsi_o\", \"epsr_o\"],\n",
    "                sep=r\"\\s+\",\n",
    "            )\n",
    "            G_0.append(\n",
    "                [\n",
    "                    material,\n",
    "                    int(file[15:]),\n",
    "                    parse_yambo_log(log_text)[\"cpu_time_s\"],\n",
    "                    0,\n",
    "                    eps_df.epsi.values,\n",
    "                ]\n",
    "            )\n",
    "\n",
    "        if file.startswith(\"epsilon_1_1500_\"):\n",
    "            with open(file) as f:\n",
    "                log_text = f.read()\n",
    "            eps_df = pd.read_csv(\n",
    "                file,\n",
    "                comment=\"#\",\n",
    "                names=[\"E\", \"epsi\", \"epsr\", \"epsi_o\", \"epsr_o\"],\n",
    "                sep=r\"\\s+\",\n",
    "            )\n",
    "            G_0.append(\n",
    "                [\n",
    "                    material,\n",
    "                    int(file[15:]),\n",
    "                    parse_yambo_log(log_text)[\"cpu_time_s\"],\n",
    "                    1,\n",
    "                    eps_df.epsi.values,\n",
    "                ]\n",
    "            )\n",
    "        if file.startswith(\"epsilon_2_1500_\"):\n",
    "            with open(file) as f:\n",
    "                log_text = f.read()\n",
    "            eps_df = pd.read_csv(\n",
    "                file,\n",
    "                comment=\"#\",\n",
    "                names=[\"E\", \"epsi\", \"epsr\", \"epsi_o\", \"epsr_o\"],\n",
    "                sep=r\"\\s+\",\n",
    "            )\n",
    "            G_0.append(\n",
    "                [\n",
    "                    material,\n",
    "                    int(file[15:]),\n",
    "                    parse_yambo_log(log_text)[\"cpu_time_s\"],\n",
    "                    2,\n",
    "                    eps_df.epsi.values,\n",
    "                ]\n",
    "            )\n",
    "\n",
    "    os.chdir(os.pardir)\n",
    "    os.chdir(os.pardir)\n",
    "\n",
    "time_df = pd.DataFrame(G_0, columns=[\"mat_id\", \"G\", \"time\", \"dir\", \"epsI\"])"
   ]
  },
  {
   "cell_type": "code",
   "execution_count": 110,
   "metadata": {},
   "outputs": [
    {
     "name": "stdout",
     "output_type": "stream",
     "text": [
      "Mean CPU time (minutes) per material for G=0: 8.673110177865613\n",
      "Median CPU time (minutes) per material for G=0: 4.933333333333334\n",
      "Mean CPU time (minutes) per material for G=2000: 310.81446805006584\n",
      "Median CPU time (minutes) per material for G=2000: 94.4\n"
     ]
    }
   ],
   "source": [
    "chosen_G = 0\n",
    "print(f\"Mean CPU time (minutes) per material for G={chosen_G}: {time_df[time_df[\"G\"] == chosen_G].groupby(\"mat_id\")[\"time\"].sum().mean()/60}\")\n",
    "print(f\"Median CPU time (minutes) per material for G={chosen_G}: {time_df[time_df[\"G\"] == chosen_G].groupby(\"mat_id\")[\"time\"].sum().median()/60}\")\n",
    "chosen_G = 2000\n",
    "print(f\"Mean CPU time (minutes) per material for G={chosen_G}: {time_df[time_df[\"G\"] == chosen_G].groupby(\"mat_id\")[\"time\"].sum().mean()/60}\")\n",
    "print(f\"Median CPU time (minutes) per material for G={chosen_G}: {time_df[time_df[\"G\"] == chosen_G].groupby(\"mat_id\")[\"time\"].sum().median()/60}\")"
   ]
  },
  {
   "attachments": {},
   "cell_type": "markdown",
   "metadata": {},
   "source": [
    "## SC for intermediate G-values"
   ]
  },
  {
   "cell_type": "code",
   "execution_count": 80,
   "metadata": {},
   "outputs": [],
   "source": [
    "import math\n",
    "\n",
    "\n",
    "# this was written by ChatGPT\n",
    "def dir_filled_row(row):\n",
    "    \"\"\"Return list of spectra (arrays) for the three dirs,\n",
    "    copying dir-0 whenever a dir is missing *or* NaN.\"\"\"\n",
    "    dir0 = np.asarray(row[0])  # must exist\n",
    "    filled = []\n",
    "    for d in dirs_needed:\n",
    "        val = row.get(d, np.nan)  # grab value or NaN\n",
    "        if isinstance(val, float) and math.isnan(val):\n",
    "            val = dir0  # replace NaN with dir-0\n",
    "        filled.append(np.asarray(val))\n",
    "    return filled\n",
    "\n",
    "\n",
    "def mean_over_dirs(row):\n",
    "    \"\"\"Element-wise mean of the three direction spectra.\"\"\"\n",
    "    return np.mean(np.vstack(dir_filled_row(row)), axis=0)"
   ]
  },
  {
   "cell_type": "code",
   "execution_count": 81,
   "metadata": {},
   "outputs": [
    {
     "name": "stdout",
     "output_type": "stream",
     "text": [
      "Mean SC at G=0: 0.6713656053099827\n",
      "Median SC at G=0: 0.6839544858025914\n"
     ]
    }
   ],
   "source": [
    "chosen_G = 0\n",
    "dirs_needed = [0, 1, 2]  # Cartesian directions we expect\n",
    "\n",
    "\n",
    "at_G = time_df[time_df[\"G\"] == chosen_G].pivot_table(\n",
    "    index=\"mat_id\", columns=\"dir\", values=\"epsI\", aggfunc=\"first\"\n",
    ")\n",
    "mean_epsI_G = at_G.apply(mean_over_dirs, axis=1)  # Series: mat_id → array\n",
    "\n",
    "\n",
    "idx = time_df.groupby([\"mat_id\", \"dir\"])[\"G\"].idxmax()  # row-index of max G\n",
    "conv = time_df.loc[idx].pivot_table(  # only those rows\n",
    "    index=\"mat_id\", columns=\"dir\", values=\"epsI\", aggfunc=\"first\"\n",
    ")\n",
    "mean_epsI_conv = conv.apply(mean_over_dirs, axis=1)  # Series: mat_id → array\n",
    "\n",
    "SC = 1 - np.trapezoid(\n",
    "    np.abs(np.stack(mean_epsI_G) - np.stack(mean_epsI_conv)), axis=1\n",
    ") / np.trapezoid(np.stack(mean_epsI_conv), axis=1)\n",
    "print(f\"Mean SC at G={chosen_G}: {np.mean(SC)}\")\n",
    "print(f\"Median SC at G={chosen_G}: {np.median(SC)}\")"
   ]
  },
  {
   "cell_type": "code",
   "execution_count": 82,
   "metadata": {},
   "outputs": [
    {
     "name": "stdout",
     "output_type": "stream",
     "text": [
      "Mean SC at G=2000: 0.9715463901878577\n",
      "Median SC at G=2000: 0.9738197751180502\n"
     ]
    }
   ],
   "source": [
    "chosen_G = 2000\n",
    "dirs_needed = [0, 1, 2]  # Cartesian directions we expect\n",
    "\n",
    "\n",
    "at_G = time_df[time_df[\"G\"] == chosen_G].pivot_table(\n",
    "    index=\"mat_id\", columns=\"dir\", values=\"epsI\", aggfunc=\"first\"\n",
    ")\n",
    "mean_epsI_G = at_G.apply(mean_over_dirs, axis=1)  # Series: mat_id → array\n",
    "\n",
    "\n",
    "idx = time_df.groupby([\"mat_id\", \"dir\"])[\"G\"].idxmax()  # row-index of max G\n",
    "conv = time_df.loc[idx].pivot_table(  # only those rows\n",
    "    index=\"mat_id\", columns=\"dir\", values=\"epsI\", aggfunc=\"first\"\n",
    ")\n",
    "mean_epsI_conv = conv.apply(mean_over_dirs, axis=1)  # Series: mat_id → array\n",
    "\n",
    "SC = 1 - np.trapezoid(\n",
    "    np.abs(np.stack(mean_epsI_G) - np.stack(mean_epsI_conv)), axis=1\n",
    ") / np.trapezoid(np.stack(mean_epsI_conv), axis=1)\n",
    "print(f\"Mean SC at G={chosen_G}: {np.mean(SC)}\")\n",
    "print(f\"Median SC at G={chosen_G}: {np.median(SC)}\")"
   ]
  }
 ],
 "metadata": {
  "kernelspec": {
   "display_name": "e3x",
   "language": "python",
   "name": "python3"
  },
  "language_info": {
   "codemirror_mode": {
    "name": "ipython",
    "version": 3
   },
   "file_extension": ".py",
   "mimetype": "text/x-python",
   "name": "python",
   "nbconvert_exporter": "python",
   "pygments_lexer": "ipython3",
   "version": "3.12.9"
  },
  "orig_nbformat": 4
 },
 "nbformat": 4,
 "nbformat_minor": 2
}
