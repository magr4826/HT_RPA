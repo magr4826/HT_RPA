{
 "cells": [
  {
   "attachments": {},
   "cell_type": "markdown",
   "metadata": {},
   "source": [
    "This notebook converts data from the compressed Alexandria database to the format used by our code. <br>\n",
    "The notebook assumes that the .json.bz2-files of the Alexandria database are in the same folder"
   ]
  },
  {
   "cell_type": "code",
   "execution_count": 1,
   "metadata": {},
   "outputs": [],
   "source": [
    "import json, bz2\n",
    "from pymatgen.entries.computed_entries import ComputedStructureEntry\n",
    "import os\n",
    "import pickle"
   ]
  },
  {
   "cell_type": "code",
   "execution_count": 2,
   "metadata": {},
   "outputs": [],
   "source": [
    "# specify elements which you want to include in your simulations\n",
    "# compounds which contain materials not in this list are dropped\n",
    "# The current list are all main group elements up to and including Xenon\n",
    "keep_elems = [\n",
    "    \"H\",\n",
    "    \"He\",\n",
    "    \"Li\",\n",
    "    \"Be\",\n",
    "    \"B\",\n",
    "    \"C\",\n",
    "    \"N\",\n",
    "    \"O\",\n",
    "    \"F\",\n",
    "    \"Ne\",\n",
    "    \"Na\",\n",
    "    \"Mg\",\n",
    "    \"Al\",\n",
    "    \"Si\",\n",
    "    \"P\",\n",
    "    \"S\",\n",
    "    \"Cl\",\n",
    "    \"Ar\",\n",
    "    \"K\",\n",
    "    \"Ca\",\n",
    "    \"Ga\",\n",
    "    \"Ge\",\n",
    "    \"As\",\n",
    "    \"Se\",\n",
    "    \"Br\",\n",
    "    \"Kr\",\n",
    "    \"Rb\",\n",
    "    \"Sr\",\n",
    "    \"In\",\n",
    "    \"Sn\",\n",
    "    \"Sb\",\n",
    "    \"Te\",\n",
    "    \"I\",\n",
    "    \"Xe\",\n",
    "]"
   ]
  },
  {
   "cell_type": "code",
   "execution_count": null,
   "metadata": {},
   "outputs": [],
   "source": [
    "# scan the database files and filter out the compounds that you want to run calculations for\n",
    "# This runs for a very long time, around an hour on our computers!\n",
    "all_files = os.listdir()\n",
    "filtered_data = []\n",
    "\n",
    "for idx, file in enumerate(all_files):\n",
    "    if \"json.bz2\" in file:\n",
    "        print(f\"opening file No. {idx}\", flush=True)\n",
    "        with bz2.open(file) as fh:\n",
    "            data = json.loads(fh.read().decode(\"utf-8\"))\n",
    "\n",
    "        entries = [ComputedStructureEntry.from_dict(i) for i in data[\"entries\"]]\n",
    "        print(\"parsing output\", flush=True)\n",
    "        for entry in entries:\n",
    "            prop = entry.data\n",
    "\n",
    "            ### Specify the conditions on which you want to filter here ###\n",
    "            if (\n",
    "                10 < prop[\"nsites\"] <= 12\n",
    "                and prop[\"e_above_hull\"] < (0.05 * prop[\"nsites\"])\n",
    "                and prop[\"band_gap_ind\"] >= 0.05\n",
    "                and set(prop[\"elements\"]).issubset(keep_elems)\n",
    "                and 75 <= prop[\"spg\"]\n",
    "            ):\n",
    "                filtered_data.append(entry)"
   ]
  },
  {
   "cell_type": "code",
   "execution_count": 4,
   "metadata": {},
   "outputs": [
    {
     "data": {
      "text/plain": [
       "1461"
      ]
     },
     "execution_count": 4,
     "metadata": {},
     "output_type": "execute_result"
    }
   ],
   "source": [
    "# check how many compounds passed all filters\n",
    "len(filtered_data)"
   ]
  },
  {
   "cell_type": "code",
   "execution_count": 5,
   "metadata": {},
   "outputs": [],
   "source": [
    "# save the filtered compounds\n",
    "with open(\"alexandria_filtered_5.pckl\", \"wb\") as f:\n",
    "    pickle.dump(filtered_data, f)"
   ]
  }
 ],
 "metadata": {
  "kernelspec": {
   "display_name": "base",
   "language": "python",
   "name": "python3"
  },
  "language_info": {
   "codemirror_mode": {
    "name": "ipython",
    "version": 3
   },
   "file_extension": ".py",
   "mimetype": "text/x-python",
   "name": "python",
   "nbconvert_exporter": "python",
   "pygments_lexer": "ipython3",
   "version": "3.12.2"
  },
  "orig_nbformat": 4
 },
 "nbformat": 4,
 "nbformat_minor": 2
}
